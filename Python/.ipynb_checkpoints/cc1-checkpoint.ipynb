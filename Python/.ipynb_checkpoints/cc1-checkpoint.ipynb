{
 "cells": [
  {
   "cell_type": "markdown",
   "metadata": {},
   "source": [
    "$\\renewcommand{\\r}{\\mathbb{ R}}$ $\\newcommand{\\N}{\\mathbb{N}}$ $\\newcommand{\\R}{\\mathbb{ R}}$ $\\newcommand{\\Q}{\\mathbb{ Q}}$ $\\newcommand{\\R}{\\mathbb{ R}}$ $\\newcommand{\\C}{\\mathbb{C}}$ $\\newcommand{\\Z}{\\mathbb{Z}}$ $\\newcommand{\\ens}[1]{\\left\\{ {#1} \\right\\}}$ $\\newcommand{\\pv}{\\;;\\;}$ $\\newcommand{\\sev}{sous-espace vectoriel}$ $\\newcommand{\\evc}{espace vectoriel canonique}$ $\\newcommand{\\vect}{\\text{vect}}$$\\newcommand{\\calf}{\\mathscr{F}}$ $\\newcommand{\\calc}{\\mathscr{C}}$ $\\newcommand{\\Frac}{\\displaystyle\\frac}$ $\\newcommand{\\ds}{\\displaystyle}$\n",
    "\n"
   ]
  },
  {
   "cell_type": "markdown",
   "metadata": {},
   "source": [
    "### Exercice n° 1 : Logo Google Drive\n",
    "\n"
   ]
  },
  {
   "cell_type": "markdown",
   "metadata": {},
   "source": [
    "Dessiner sous SageMath le logo de [Google Drive](https://upload.wikimedia.org/wikipedia/commons/thumb/d/da/Google_Drive_logo.png/600px-Google_Drive_logo.png) sous la forme simplifiée suivante :\n",
    "\n",
    "![ ](google_drive_po_sm.png)\n",
    "\n",
    "Tous les angles visibles doivent avoir 60° ou 120°.  Le logo est constitué de trois parallélogrammes **superposables** autrement dit ayant les **mêmes dimensions**. Ainsi, le dessin ci-dessous, bien que ressemblant, est incorrect :\n",
    "\n",
    "![ ](google_drive_grid.png)\n",
    "\n",
    "puisque les parallélogrammes ne sont clairement pas identiques.\n",
    "\n",
    "### Indication\n",
    "\n",
    "On utilisera le résultat décrit plus bas et dont les données sont fournies par la figure suivante :\n",
    "\n",
    "![](coord_rotation.png)\n",
    "\n",
    "Le point $\\mathtt{A=(x_A, y_A)}$ étant donné ainsi qu'un angle $\\mathtt{\\alpha}$ (en radians pour Python) et une distance $\\mathtt{d}$ alors le point $\\mathtt{M}$ tel que $\\mathtt{AM=d}$ et $\\mathtt{(\\overrightarrow{i}, \\overrightarrow{AM})=\\alpha}$ a pour coordonnées :\n",
    "\n",
    "$\\mathtt{x_M=x_A+d\\cos\\alpha\\quad y_M=y_A+d\\sin\\alpha}$\n",
    "\n",
    "où $\\mathtt{\\overrightarrow{i}}$ est le vecteur unitaire de l'axe des abscisses.\n",
    "\n",
    "On construira dans le code Python une fonction `extremite(A, d, alpha)` renvoyant les coordonnées de `M` défini ci-dessus et qu'on utilisera pour construire la figure.\n",
    "\n",
    "Les couleurs seront le bleu, l'orange et le vert. On ignorera les effets de transparence et les coins arrondis du logo original.\n",
    "\n"
   ]
  },
  {
   "cell_type": "code",
   "execution_count": null,
   "metadata": {},
   "outputs": [],
   "source": [
    "# Votre code CI-DESSOUS\n"
   ]
  },
  {
   "cell_type": "markdown",
   "metadata": {},
   "source": [
    "### Exercice n° 2 : Etude d'une courbe\n",
    "\n"
   ]
  },
  {
   "cell_type": "markdown",
   "metadata": {},
   "source": [
    "Soit la fonction $f(x)=xe^{-x}$.\n",
    "\n"
   ]
  },
  {
   "cell_type": "markdown",
   "metadata": {},
   "source": [
    "1) Tracer le graphe $(C)$ de $f$. On utilisera une épaisseur de trait plus importante que l'épaisseur par défaut. La couleur du tracé sera le noir.\n",
    "\n"
   ]
  },
  {
   "cell_type": "code",
   "execution_count": null,
   "metadata": {},
   "outputs": [],
   "source": [
    "# Votre code CI-DESSOUS\n"
   ]
  },
  {
   "cell_type": "markdown",
   "metadata": {},
   "source": [
    "2)a) Calculer la dérivée seconde de $f$, qu'on pourra noter `d2f`.\n",
    "\n"
   ]
  },
  {
   "cell_type": "code",
   "execution_count": null,
   "metadata": {},
   "outputs": [],
   "source": [
    "# Votre code CI-DESSOUS\n"
   ]
  },
  {
   "cell_type": "markdown",
   "metadata": {},
   "source": [
    "b) En utilisant la fonction de SageMath dédiée à cela, déterminer une valeur **approchée** de la racine $r$ de l'équation `d2f(x)=0` pour x entre 1 et 4.\n",
    "\n"
   ]
  },
  {
   "cell_type": "code",
   "execution_count": null,
   "metadata": {},
   "outputs": [],
   "source": [
    "# Votre code CI-DESSOUS\n"
   ]
  },
  {
   "cell_type": "markdown",
   "metadata": {},
   "source": [
    "c) Faites vérifier par Sagemath qu'en fait que $r=2$.\n",
    "\n"
   ]
  },
  {
   "cell_type": "code",
   "execution_count": null,
   "metadata": {},
   "outputs": [],
   "source": [
    "# Votre code CI-DESSOUS\n"
   ]
  },
  {
   "cell_type": "markdown",
   "metadata": {},
   "source": [
    "3) Tracer la tangente à la courbe $(C)$ au point d'abscisse $r$. La tangente sera en orange et dépassera de 1 de chaque côté autour du point. Marquer le point de contact avec une petite bulle bleue de taille 25 points.\n",
    "\n"
   ]
  },
  {
   "cell_type": "code",
   "execution_count": null,
   "metadata": {},
   "outputs": [],
   "source": [
    "# Votre code CI-DESSOUS\n"
   ]
  },
  {
   "cell_type": "markdown",
   "metadata": {},
   "source": [
    "### Exercice n° 3 : Preuve d'un encadrement\n",
    "\n"
   ]
  },
  {
   "cell_type": "markdown",
   "metadata": {},
   "source": [
    "Soit $x\\geq 0$. On souhaite établir l'encadrement suivant\n",
    "\n",
    "$$1+\\frac x2-\\frac{x^2}8\\leq \\sqrt{1+x}\\leq 1+\\frac x2-\\frac{x^2}8+ \\frac 1{16}x^3$$\n",
    "\n"
   ]
  },
  {
   "cell_type": "markdown",
   "metadata": {},
   "source": [
    "1) En traçant le graphe de trois fonctions, visualisez cet encadrement (la courbe d'équation $y=\\sqrt{1+x}$ sera tracée en rouge).\n",
    "\n"
   ]
  },
  {
   "cell_type": "code",
   "execution_count": 24,
   "metadata": {},
   "outputs": [
    {
     "data": {
      "image/png": "[encoded data removed]",
      "text/plain": [
       "Graphics object consisting of 3 graphics primitives"
      ]
     },
     "execution_count": 24,
     "metadata": {},
     "output_type": "execute_result"
    }
   ],
   "source": [
    "f(x) = 1+(x/2)-(x^2/8)\n",
    "g(x) = sqrt(1+x)\n",
    "h(x) = 1 + x/2 -(x^2)/8 + 1*x^3/16\n",
    "\n",
    "P1 = plot([f,h], (x, 0 , 5))\n",
    "P2 = plot(g, (x, 0 , 5), color=\"red\")\n",
    "\n",
    "P1+P2"
   ]
  },
  {
   "cell_type": "markdown",
   "metadata": {},
   "source": [
    "2) Pour montrer chacune des deux inégalités, on considère successivement chacune des expressions obtenues en faisant la différence `D=B-A` entre le plus grand `B` et le plus petit `A`. Procéder alors aux étapes suivantes :\n",
    "\n",
    "- chercher l'aide de la méthode `subs` et la lire attentivement (la commande d'aide à lancer est `x.subs`)\n",
    "\n",
    "- éliminer la racine carrée $\\sqrt{x+1}$ dans `D` en faisant le changement de variable dans `D` défini par $u=\\sqrt{x+1}$. Pour cela, utiliser plusieurs fois la méthode `subs`, jusqu'à disparition de `x`. Si vous n'y arrivez pas, faites le remplacement à la main, après un examen visuel.\n",
    "\n",
    "- une fois `x` éliminé dans `D`, factorisez $D$ et expliquez en quoi on peut facilement obtenir à la main le signe de $D$. Confirmer en résolvant l'inéquation $D\\geq 0$.\n",
    "\n",
    "La commande d'aide :\n",
    "\n"
   ]
  },
  {
   "cell_type": "code",
   "execution_count": 41,
   "metadata": {},
   "outputs": [],
   "source": [
    "x.subs?"
   ]
  },
  {
   "cell_type": "code",
   "execution_count": 52,
   "metadata": {},
   "outputs": [
    {
     "name": "stdout",
     "output_type": "stream",
     "text": [
      "[[u <= -3], [u >= 1]]\n",
      "1/8*(u + 3)*(u - 1)^3\n"
     ]
    }
   ],
   "source": [
    "var(\"a b c y x u\")\n",
    "D1 = g(x) - f(x)\n",
    "D1 = factor(D1.subs(sqrt(x+1) == u).subs(x == u^2-1))\n",
    "\n",
    "print(solve(D1 >= 0, u))\n",
    "\n",
    "\n",
    "print(D1)"
   ]
  },
  {
   "cell_type": "markdown",
   "metadata": {},
   "source": [
    "### Exercice n° 4 : Tirages successifs dans une urne\n",
    "\n"
   ]
  },
  {
   "cell_type": "markdown",
   "metadata": {},
   "source": [
    "Une urne contient 3 boules rouges et 7 boules blanches. On tire l'une après l'autre 4 boules de l'urne et, à chaque tirage, on procède comme suit :\n",
    "\n",
    "- si la boule tirée est rouge, elle est remise dans l'urne,\n",
    "\n",
    "- si la boule tirée est blanche, elle n'est pas remise dans l'urne.\n",
    "\n",
    "Ci-dessous, on demande de réaliser des simulations pour approcher les probabilités demandées.\n",
    "\n",
    "Chaque boule pourra être identifiée par chaîne de caractères commençant par une lettre représentant sa couleur et suivie d'un numéro, par exemple `'B5'` (on peut aussi utiliser une liste à deux éléments, le premier représentant la couleur `'R'` ou `'B'` de la boule et le 2e élément étant son numéro). On utilisera la méthode `remove` d'une liste `L` et qui est telle que `L.remove(a)` supprime de la liste `L` la première occurrence valant `a`, par exemple :\n",
    "\n"
   ]
  },
  {
   "cell_type": "code",
   "execution_count": 53,
   "metadata": {},
   "outputs": [
    {
     "name": "stdout",
     "output_type": "stream",
     "text": [
      "[81, 31, 42, 12]\n"
     ]
    }
   ],
   "source": [
    "L=[81, 42, 31, 42, 12]\n",
    "L.remove(42)\n",
    "print(L)"
   ]
  },
  {
   "cell_type": "markdown",
   "metadata": {},
   "source": [
    "1) Déterminer la probabilité que soit tirée exactement une boule blanche une fois les 4 boules tirées. On vevra trouver un résultat proche de $24073/270000$. On pourra utiliser la méthode `L.count(a)` qui compte le nombre d'occurrences de `a` dans la liste `L`, par exemple\n",
    "\n"
   ]
  },
  {
   "cell_type": "code",
   "execution_count": 54,
   "metadata": {},
   "outputs": [
    {
     "data": {
      "text/plain": [
       "2"
      ]
     },
     "execution_count": 54,
     "metadata": {},
     "output_type": "execute_result"
    }
   ],
   "source": [
    "L=[81, 42, 31, 42, 12]\n",
    "L.count(42)"
   ]
  },
  {
   "cell_type": "code",
   "execution_count": 61,
   "metadata": {},
   "outputs": [
    {
     "name": "stdout",
     "output_type": "stream",
     "text": [
      "4\n"
     ]
    }
   ],
   "source": [
    "E = [\n",
    "    \"B1\", \"B2\", \n",
    "    \"B3\", \"B4\", \n",
    "    \"B5\", \"B6\", \n",
    "    \"B7\", \"R1\", \n",
    "    \"R2\", \"R3\"\n",
    "]\n",
    "\n",
    "def pickBall(E):\n",
    "    pickedIndex = randint(0, len(E)-1)\n",
    "    pickedBall = E[randint(0, len(E)-1)]\n",
    "    E.remove(pickedBall)\n",
    "    \n",
    "    return pickedBall\n",
    "\n"
   ]
  },
  {
   "cell_type": "markdown",
   "metadata": {},
   "source": [
    "2) (*Cette question n'est pas prioritaire*) On suppose que la 2e boule du tirage est rouge. Déterminer la probabilité que la première boule tirée soit blanche.\n",
    "\n"
   ]
  },
  {
   "cell_type": "code",
   "execution_count": null,
   "metadata": {},
   "outputs": [],
   "source": [
    "# Votre code CI-DESSOUS\n"
   ]
  }
 ],
 "metadata": {
  "kernelspec": {
   "display_name": "SageMath 9.3",
   "language": "sage",
   "name": "sagemath"
  },
  "language_info": {
   "codemirror_mode": {
    "name": "ipython",
    "version": 3
   },
   "file_extension": ".py",
   "mimetype": "text/x-python",
   "name": "python",
   "nbconvert_exporter": "python",
   "pygments_lexer": "ipython3",
   "version": "3.7.10"
  }
 },
 "nbformat": 4,
 "nbformat_minor": 1
}
