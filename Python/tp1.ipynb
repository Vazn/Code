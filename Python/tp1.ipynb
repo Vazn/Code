{
 "cells": [
  {
   "cell_type": "markdown",
   "metadata": {},
   "source": [
    "# Analyse Numérique Matricielle : TP1"
   ]
  },
  {
   "cell_type": "markdown",
   "metadata": {},
   "source": [
    "## 1. Initialisation d'une matrice et son étude"
   ]
  },
  {
   "cell_type": "markdown",
   "metadata": {},
   "source": [
    "définissez la matrice A donnée dans la diapo 54 et affichez-là"
   ]
  },
  {
   "cell_type": "code",
   "execution_count": 2,
   "metadata": {},
   "outputs": [
    {
     "data": {
      "text/plain": [
       "[10  7  8  7]\n",
       "[ 7  5  6  5]\n",
       "[ 8  6 10  9]\n",
       "[ 7  5  9 10]"
      ]
     },
     "execution_count": 2,
     "metadata": {},
     "output_type": "execute_result"
    }
   ],
   "source": [
    "#votre code\n",
    "A = Matrix(QQ, [[10, 7, 8, 7],[7, 5, 6, 5], [8, 6, 10, 9], [7, 5, 9, 10]])\n",
    "A\n"
   ]
  },
  {
   "cell_type": "markdown",
   "metadata": {},
   "source": [
    "calculez les normes 1, 2, infinie et de frobénius de cette matrice. Affichez."
   ]
  },
  {
   "cell_type": "code",
   "execution_count": 12,
   "metadata": {},
   "outputs": [
    {
     "name": "stdout",
     "output_type": "stream",
     "text": [
      "33\n",
      "30.28868534580213?\n",
      "33\n",
      "sqrt(933)\n"
     ]
    }
   ],
   "source": [
    "def spectralRadius(A): return max([abs(A.eigenvalues()[i]) for i in range(A.ncols())])\n",
    "\n",
    "def norm1(A): return max([sum(A.columns()[i]) for i in range(A.nrows())])\n",
    "def normInf(A): return max([sum(A.rows()[i]) for i in range(A.nrows())])\n",
    "def normFrob(A): return sqrt(sum([A[i, j]^2 for i in range(A.nrows()) for j in range(A.nrows())]))\n",
    "def norm2(A): return sqrt(spectralRadius(A*A.transpose()))\n",
    "\n",
    "def conditioning(A, norm):\n",
    "    if A.determinant() == 0: raise Exception('Pas inversible idiot')\n",
    "    return norm(A)*norm(A.inverse())\n",
    "\n",
    "print(norm1(A))\n",
    "print(norm2(A))\n",
    "print(normInf(A))\n",
    "print(normFrob(A))\n"
   ]
  },
  {
   "cell_type": "markdown",
   "metadata": {},
   "source": [
    "calculez les conditionnements issus des normes 1, 2, infinie et de frobénius de cette matrice. Affichez."
   ]
  },
  {
   "cell_type": "code",
   "execution_count": 11,
   "metadata": {},
   "outputs": [
    {
     "name": "stdout",
     "output_type": "stream",
     "text": [
      "660\n",
      "2984.092701675490?\n",
      "660\n",
      "2*sqrt(2427)*sqrt(933)\n"
     ]
    }
   ],
   "source": [
    "print(conditioning(A, norm1))\n",
    "print(conditioning(A, norm2))\n",
    "print(conditioning(A, normInf))\n",
    "print(conditioning(A, normFrob))"
   ]
  },
  {
   "cell_type": "markdown",
   "metadata": {},
   "source": [
    "## 2. conditionnement"
   ]
  },
  {
   "cell_type": "markdown",
   "metadata": {},
   "source": [
    "### a) variation du second membre"
   ]
  },
  {
   "cell_type": "markdown",
   "metadata": {},
   "source": [
    "définissez le vecteur db = (32.1,22.9,33.1,30.9) \n",
    "et résolvez le système A.dx = db. Affichez."
   ]
  },
  {
   "cell_type": "code",
   "execution_count": null,
   "metadata": {},
   "outputs": [],
   "source": [
    "deltaB = vector([32.1, 22.9, 33.1, 30.9])\n",
    "deltaX = A.solve_right(deltaB)\n",
    "\n",
    "deltaX"
   ]
  },
  {
   "cell_type": "markdown",
   "metadata": {},
   "source": [
    "vérifiez sur cet exemple l'inégalité de la diapo 60 en utilisant les 4 normes pré-citées."
   ]
  },
  {
   "cell_type": "code",
   "execution_count": null,
   "metadata": {},
   "outputs": [],
   "source": [
    "b = vector([32, 30, 33, 31])\n",
    "x = A.solve_right(b)\n",
    "\n",
    "if deltaX.norm(2)/x.norm(2) - conditioning(A, norm2)*deltaB.norm(2)/b.norm(2) < 0: print(True)"
   ]
  },
  {
   "cell_type": "markdown",
   "metadata": {},
   "source": [
    "### b) variation de A"
   ]
  },
  {
   "cell_type": "markdown",
   "metadata": {},
   "source": [
    "Définissez une nouvelle matrice identique à A, mais en ajoutant 0.0001 à l'élément situé en dernière ligne et dernière colonne"
   ]
  },
  {
   "cell_type": "code",
   "execution_count": null,
   "metadata": {},
   "outputs": [],
   "source": [
    "deltaA = A\n",
    "deltaA[3, 3] = deltaA[3, 3] + 0.0001"
   ]
  },
  {
   "cell_type": "markdown",
   "metadata": {},
   "source": [
    "en procédant comme précedement vérifiez sur cet exemple l'inégalité de la diapo 64."
   ]
  },
  {
   "cell_type": "code",
   "execution_count": null,
   "metadata": {},
   "outputs": [],
   "source": [
    "if deltaX.norm(2)/(x.norm(2) + deltaX.norm(2)) - conditioning(A, norm2)*norm2(deltaA)/norm2(A) < 0: print(True)"
   ]
  },
  {
   "cell_type": "markdown",
   "metadata": {},
   "source": [
    "### c) perturbation d'une matrice : test sur une autre matrice"
   ]
  },
  {
   "cell_type": "markdown",
   "metadata": {},
   "source": [
    "définissez une matrice C d'ordre 4 telle que $c_{i,i}$ = $\\frac{1}{i+j-1}$, sachant que la numérotation commence à i = j = 1. Affichez."
   ]
  },
  {
   "cell_type": "code",
   "execution_count": null,
   "metadata": {},
   "outputs": [],
   "source": [
    "C = Matrix(QQ, [[1/(i+j-1) for i in range(1, 5)] for j in range(1, 5)])\n",
    "show(C)"
   ]
  },
  {
   "cell_type": "markdown",
   "metadata": {},
   "source": [
    "Calculez les conditionnements issus des différentes normes de cette matrice C."
   ]
  },
  {
   "cell_type": "code",
   "execution_count": null,
   "metadata": {},
   "outputs": [],
   "source": [
    "print(C.norm(1), C.norm(2), C.norm(Infinity), C.norm('frob'))"
   ]
  },
  {
   "cell_type": "markdown",
   "metadata": {},
   "source": [
    "définissez le vecteur x = (1,1,1,1) et calculez le vecteur b = C.x"
   ]
  },
  {
   "cell_type": "code",
   "execution_count": null,
   "metadata": {},
   "outputs": [],
   "source": [
    "x = vector([1, 1, 1, 1])\n",
    "b = C*x\n",
    "\n",
    "show(b)"
   ]
  },
  {
   "cell_type": "markdown",
   "metadata": {},
   "source": [
    "On perturbe la matrice C : \n",
    "\n",
    "Définissez une nouvelle matrice D identique à C, mais en ajoutant 0.00001 à l'élément situé en dernière ligne et dernière colonne"
   ]
  },
  {
   "cell_type": "code",
   "execution_count": null,
   "metadata": {},
   "outputs": [],
   "source": [
    "deltaC = C\n",
    "deltaC[3, 3] += 0.00001"
   ]
  },
  {
   "cell_type": "markdown",
   "metadata": {},
   "source": [
    "comme précédement faites les calculs nécessaires pour vérifier l'inégalité de la diapo 64 en utilisant les différentes normes. Commentez."
   ]
  },
  {
   "cell_type": "code",
   "execution_count": null,
   "metadata": {},
   "outputs": [],
   "source": [
    "if deltaX.norm(2)/(x.norm(2) + deltaX.norm(2)) - conditioning(C, norm2)*norm2(deltaC)/norm2(C) < 0: print(True)"
   ]
  },
  {
   "cell_type": "markdown",
   "metadata": {},
   "source": [
    "## Matrice issues de la discrétisation l'équation de la chaleur"
   ]
  },
  {
   "cell_type": "markdown",
   "metadata": {},
   "source": [
    "### en dimension 1"
   ]
  },
  {
   "cell_type": "markdown",
   "metadata": {},
   "source": [
    "Définissez la matrice M1 d'ordre n (un paramètre que vous pouvez fixer dans un premier temps à 16) issue de la discrétisation de l'équation de la chaleur en dimension 1."
   ]
  },
  {
   "cell_type": "code",
   "execution_count": null,
   "metadata": {},
   "outputs": [],
   "source": [
    "\n",
    "show(createDiscreteMatrix1(4))"
   ]
  },
  {
   "cell_type": "markdown",
   "metadata": {},
   "source": [
    "calculez son conditionnement issu des 4 normes."
   ]
  },
  {
   "cell_type": "code",
   "execution_count": null,
   "metadata": {},
   "outputs": [],
   "source": [
    "print(M1.norm(1), M1.norm(2), M1.norm(Infinity), M1.norm('frob'))"
   ]
  },
  {
   "cell_type": "markdown",
   "metadata": {},
   "source": [
    "### en dimension 2"
   ]
  },
  {
   "cell_type": "markdown",
   "metadata": {},
   "source": [
    "Définissez la matrice M2 d'ordre n*n (un paramètre que vous pouvez fixer dans un premier temps à 4) issue de la discrétisation de l'équation de la chaleur en dimension 2. Ce sera donc une matrice d'ordre 16 comme la précédente."
   ]
  },
  {
   "cell_type": "code",
   "execution_count": null,
   "metadata": {},
   "outputs": [],
   "source": [
    "\n",
    "\n",
    "createDiscreteMatrix2(4)"
   ]
  },
  {
   "cell_type": "markdown",
   "metadata": {},
   "source": [
    "calculez son conditionnement issu des 4 normes."
   ]
  },
  {
   "cell_type": "code",
   "execution_count": null,
   "metadata": {},
   "outputs": [],
   "source": [
    "print(M1.norm(1), M1.norm(2), M1.norm(Infinity), M1.norm('frob'))"
   ]
  },
  {
   "cell_type": "markdown",
   "metadata": {},
   "source": [
    "tracez en fonction de l'ordre de la matrice (pas plus de 100), un graphique sur lequel il y aura les contitionnements de ces deux matrices. Vous pouvez modifier/adapter le code précédent."
   ]
  },
  {
   "cell_type": "code",
   "execution_count": 35,
   "metadata": {},
   "outputs": [
    {
     "name": "stdout",
     "output_type": "stream",
     "text": [
      "[ 5 -1  0  0  0 -1  0  0  0  0  0  0  0  0  0  0  0  0  0  0  0  0  0  0  0]\n",
      "[-1  5 -1  0  0  0 -1  0  0  0  0  0  0  0  0  0  0  0  0  0  0  0  0  0  0]\n",
      "[ 0 -1  5 -1  0  0  0 -1  0  0  0  0  0  0  0  0  0  0  0  0  0  0  0  0  0]\n",
      "[ 0  0 -1  5 -1  0  0  0 -1  0  0  0  0  0  0  0  0  0  0  0  0  0  0  0  0]\n",
      "[ 0  0  0 -1  5 -1  0  0  0 -1  0  0  0  0  0  0  0  0  0  0  0  0  0  0  0]\n",
      "[-1  0  0  0 -1  5 -1  0  0  0 -1  0  0  0  0  0  0  0  0  0  0  0  0  0  0]\n",
      "[ 0 -1  0  0  0 -1  5 -1  0  0  0 -1  0  0  0  0  0  0  0  0  0  0  0  0  0]\n",
      "[ 0  0 -1  0  0  0 -1  5 -1  0  0  0 -1  0  0  0  0  0  0  0  0  0  0  0  0]\n",
      "[ 0  0  0 -1  0  0  0 -1  5 -1  0  0  0 -1  0  0  0  0  0  0  0  0  0  0  0]\n",
      "[ 0  0  0  0 -1  0  0  0 -1  5 -1  0  0  0 -1  0  0  0  0  0  0  0  0  0  0]\n",
      "[ 0  0  0  0  0 -1  0  0  0 -1  5 -1  0  0  0 -1  0  0  0  0  0  0  0  0  0]\n",
      "[ 0  0  0  0  0  0 -1  0  0  0 -1  5 -1  0  0  0 -1  0  0  0  0  0  0  0  0]\n",
      "[ 0  0  0  0  0  0  0 -1  0  0  0 -1  5 -1  0  0  0 -1  0  0  0  0  0  0  0]\n",
      "[ 0  0  0  0  0  0  0  0 -1  0  0  0 -1  5 -1  0  0  0 -1  0  0  0  0  0  0]\n",
      "[ 0  0  0  0  0  0  0  0  0 -1  0  0  0 -1  5 -1  0  0  0 -1  0  0  0  0  0]\n",
      "[ 0  0  0  0  0  0  0  0  0  0 -1  0  0  0 -1  5 -1  0  0  0 -1  0  0  0  0]\n",
      "[ 0  0  0  0  0  0  0  0  0  0  0 -1  0  0  0 -1  5 -1  0  0  0 -1  0  0  0]\n",
      "[ 0  0  0  0  0  0  0  0  0  0  0  0 -1  0  0  0 -1  5 -1  0  0  0 -1  0  0]\n",
      "[ 0  0  0  0  0  0  0  0  0  0  0  0  0 -1  0  0  0 -1  5 -1  0  0  0 -1  0]\n",
      "[ 0  0  0  0  0  0  0  0  0  0  0  0  0  0 -1  0  0  0 -1  5 -1  0  0  0 -1]\n",
      "[ 0  0  0  0  0  0  0  0  0  0  0  0  0  0  0 -1  0  0  0 -1  5 -1  0  0  0]\n",
      "[ 0  0  0  0  0  0  0  0  0  0  0  0  0  0  0  0 -1  0  0  0 -1  5 -1  0  0]\n",
      "[ 0  0  0  0  0  0  0  0  0  0  0  0  0  0  0  0  0 -1  0  0  0 -1  5 -1  0]\n",
      "[ 0  0  0  0  0  0  0  0  0  0  0  0  0  0  0  0  0  0 -1  0  0  0 -1  5 -1]\n",
      "[ 0  0  0  0  0  0  0  0  0  0  0  0  0  0  0  0  0  0  0 -1  0  0  0 -1  5]\n",
      "[(1, 1), (2, 6.342329219213246?), (3, 22.88467043682133?), (4, 16.07142242438188?), (5, 6.71006990109198?), (6, 4.310607982443493?)]\n"
     ]
    }
   ],
   "source": [
    "def createDiscreteMatrix1(n):\n",
    "    M1 = 2*matrix.identity(n**2)\n",
    "    for i in range(n**2-1):\n",
    "        M1[i, i+1] += -1\n",
    "        M1[i+1, i] += -1\n",
    "\n",
    "    return M1\n",
    "\n",
    "def createDiscreteMatrix2(n):\n",
    "    M1 = n*matrix.identity(n**2)\n",
    "    for i in range(n**2-1):\n",
    "        M1[i, i+1] += -1\n",
    "        M1[i+1, i] += -1\n",
    "    for i in range(n**2-n):\n",
    "        M1[i, i+n] += -1\n",
    "        M1[i+n, i] += -1\n",
    "\n",
    "    return M1\n",
    "\n",
    "M = createDiscreteMatrix2(5)\n",
    "print(M)\n",
    "#points1 = [(n, conditioning(createDiscreteMatrix1(n), norm2)) for n in range(1,7)]\n",
    "points2 = [(n, conditioning(createDiscreteMatrix2(n), norm2)) for n in range(1,7)]\n",
    "\n",
    "\n",
    "print(points2)\n",
    "\n",
    "#points(points1, color='red')"
   ]
  },
  {
   "cell_type": "code",
   "execution_count": null,
   "metadata": {},
   "outputs": [],
   "source": []
  }
 ],
 "metadata": {
  "kernelspec": {
   "display_name": "SageMath 9.5",
   "language": "sage",
   "name": "sagemath"
  },
  "language_info": {
   "codemirror_mode": {
    "name": "ipython",
    "version": 3
   },
   "file_extension": ".py",
   "mimetype": "text/x-python",
   "name": "python",
   "nbconvert_exporter": "python",
   "pygments_lexer": "ipython3",
   "version": "3.11.6"
  }
 },
 "nbformat": 4,
 "nbformat_minor": 4
}
