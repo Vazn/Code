{
 "cells": [
  {
   "cell_type": "code",
   "execution_count": 4,
   "metadata": {},
   "outputs": [
    {
     "data": {
      "text/latex": [
       "$\\displaystyle - x \\sin^{2}{\\left(y \\right)} \\left. \\frac{\\partial^{2}}{\\partial _x*sin(y)\\partial \\xi_{1}} f{\\left(\\xi_{1},_x*sin(y) \\right)} \\right|_{\\substack{ \\xi_{1}=x \\cos{\\left(y \\right)} }} - x \\sin{\\left(y \\right)} \\cos{\\left(y \\right)} \\left. \\frac{\\partial^{2}}{\\partial \\xi_{1}^{2}} f{\\left(\\xi_{1},x \\sin{\\left(y \\right)} \\right)} \\right|_{\\substack{ \\xi_{1}=x \\cos{\\left(y \\right)} }} + x \\sin{\\left(y \\right)} \\cos{\\left(y \\right)} \\left. \\frac{\\partial^{2}}{\\partial \\xi_{2}^{2}} f{\\left(x \\cos{\\left(y \\right)},\\xi_{2} \\right)} \\right|_{\\substack{ \\xi_{2}=x \\sin{\\left(y \\right)} }} + x \\cos^{2}{\\left(y \\right)} \\left. \\frac{\\partial^{2}}{\\partial _x*cos(y)\\partial \\xi_{2}} f{\\left(_x*cos(y),\\xi_{2} \\right)} \\right|_{\\substack{ \\xi_{2}=x \\sin{\\left(y \\right)} }} - \\sin{\\left(y \\right)} \\left. \\frac{\\partial}{\\partial \\xi_{1}} f{\\left(\\xi_{1},x \\sin{\\left(y \\right)} \\right)} \\right|_{\\substack{ \\xi_{1}=x \\cos{\\left(y \\right)} }} + \\cos{\\left(y \\right)} \\left. \\frac{\\partial}{\\partial \\xi_{2}} f{\\left(x \\cos{\\left(y \\right)},\\xi_{2} \\right)} \\right|_{\\substack{ \\xi_{2}=x \\sin{\\left(y \\right)} }}$"
      ],
      "text/plain": [
       "-x*sin(y)**2*Subs(Derivative(f(_xi_1, _x*sin(y)), _xi_1, _x*sin(y)), _xi_1, x*cos(y)) - x*sin(y)*cos(y)*Subs(Derivative(f(_xi_1, x*sin(y)), (_xi_1, 2)), _xi_1, x*cos(y)) + x*sin(y)*cos(y)*Subs(Derivative(f(x*cos(y), _xi_2), (_xi_2, 2)), _xi_2, x*sin(y)) + x*cos(y)**2*Subs(Derivative(f(_x*cos(y), _xi_2), _xi_2, _x*cos(y)), _xi_2, x*sin(y)) - sin(y)*Subs(Derivative(f(_xi_1, x*sin(y)), _xi_1), _xi_1, x*cos(y)) + cos(y)*Subs(Derivative(f(x*cos(y), _xi_2), _xi_2), _xi_2, x*sin(y))"
      ]
     },
     "execution_count": 4,
     "metadata": {},
     "output_type": "execute_result"
    }
   ],
   "source": [
    "from sympy import *\n",
    "\n",
    "x = Symbol('x')\n",
    "y = Symbol('y')\n",
    "f = Function('f')(x*cos(y), x*sin(y))\n",
    "\n",
    "f.diff(y, x).expand()\n",
    "\n"
   ]
  },
  {
   "cell_type": "code",
   "execution_count": null,
   "metadata": {},
   "outputs": [],
   "source": []
  }
 ],
 "metadata": {
  "kernelspec": {
   "display_name": "Python 3",
   "language": "python",
   "name": "python3"
  },
  "language_info": {
   "codemirror_mode": {
    "name": "ipython",
    "version": 3
   },
   "file_extension": ".py",
   "mimetype": "text/x-python",
   "name": "python",
   "nbconvert_exporter": "python",
   "pygments_lexer": "ipython3",
   "version": "3.9.6"
  }
 },
 "nbformat": 4,
 "nbformat_minor": 2
}
